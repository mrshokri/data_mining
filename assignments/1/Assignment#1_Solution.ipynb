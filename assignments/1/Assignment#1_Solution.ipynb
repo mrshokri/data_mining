{
  "cells": [
    {
      "cell_type": "markdown",
      "metadata": {
        "id": "iIa-poEHfw5Z"
      },
      "source": [
        "#Assignment 1 (Random Forest)"
      ]
    },
    {
      "cell_type": "markdown",
      "metadata": {
        "id": "lGU057DfgTIL"
      },
      "source": [
        "* In this project you are given a dataset of housing housing price prediction. \n",
        "Dataset description is found in the given datasets.\n",
        "\n",
        "* The goal of the project is to predict the price of a house given its attributes. \n",
        "Therefore, the problem is a regression task. \n",
        "\n",
        "* You need to build a random forest that consists of multiple decision trees (for regression) from the given training data set. Then, apply it on the test set and submit your code to generate predictions.\n",
        "You need to build the random forest and decision trees from scratch. (I.e., it is not allowed to use existing machine learning libraries or packages such as sklearn.)\n",
        "\n",
        "* You may use any programming language/environment of your choice, but you are required to submit the complete source code to produce the output\n",
        "If you use anything other than jupyter notebook, submit an executable and run that from the main function of the jupyter notebook so that the prediction generation is automated. We can provide assistance with this.\n",
        "The output (a single file with the predictions for each test instance) must be generated automatically using the approach implemented by you. Submitting predictions/code from any other source (Internet, another student, etc.) is considered cheating and will result in immediate disqualification (i.e., dismissal from the course)."
      ]
    },
    {
      "cell_type": "markdown",
      "metadata": {
        "id": "_kut1m20f4zR"
      },
      "source": [
        "##Part 1: Preprocessing and dataset analysis (20 points)"
      ]
    },
    {
      "cell_type": "markdown",
      "metadata": {
        "id": "5yANfSgagRJq"
      },
      "source": [
        "* The given dataset is quite complex, it has many attributes, and not all of them are useful! \n",
        "Training on such dataset results in a bad accuracy. And this is exactly the point! \n",
        "\n",
        "* \"Understanding the question is half the answer\". In data mining, understanding the dataset is half the answer! \n",
        "\n",
        "* In part 1 you need to analyze the dataset and make it clean. \n",
        " "
      ]
    },
    {
      "cell_type": "code",
      "execution_count": 33,
      "metadata": {},
      "outputs": [],
      "source": [
        "import pandas as pd\n",
        "import numpy as np\n",
        "\n",
        "import matplotlib.pyplot as plt\n",
        "import seaborn as sns\n",
        "\n",
        "import warnings\n",
        "warnings.filterwarnings('ignore')"
      ]
    },
    {
      "cell_type": "markdown",
      "metadata": {
        "id": "O4xjsBzYlfjq"
      },
      "source": [
        "###Load the dataset and explore (5 points)\n",
        "\n",
        "* Load the dataset, view the dataset and the shape of it, "
      ]
    },
    {
      "cell_type": "code",
      "execution_count": 38,
      "metadata": {
        "id": "AUvifadOf4G-"
      },
      "outputs": [
        {
          "name": "stdout",
          "output_type": "stream",
          "text": [
            "(1460, 81)\n"
          ]
        },
        {
          "data": {
            "text/html": [
              "<div>\n",
              "<style scoped>\n",
              "    .dataframe tbody tr th:only-of-type {\n",
              "        vertical-align: middle;\n",
              "    }\n",
              "\n",
              "    .dataframe tbody tr th {\n",
              "        vertical-align: top;\n",
              "    }\n",
              "\n",
              "    .dataframe thead th {\n",
              "        text-align: right;\n",
              "    }\n",
              "</style>\n",
              "<table border=\"1\" class=\"dataframe\">\n",
              "  <thead>\n",
              "    <tr style=\"text-align: right;\">\n",
              "      <th></th>\n",
              "      <th>Id</th>\n",
              "      <th>MSSubClass</th>\n",
              "      <th>MSZoning</th>\n",
              "      <th>LotFrontage</th>\n",
              "      <th>LotArea</th>\n",
              "      <th>Street</th>\n",
              "      <th>Alley</th>\n",
              "      <th>LotShape</th>\n",
              "      <th>LandContour</th>\n",
              "      <th>Utilities</th>\n",
              "      <th>...</th>\n",
              "      <th>PoolArea</th>\n",
              "      <th>PoolQC</th>\n",
              "      <th>Fence</th>\n",
              "      <th>MiscFeature</th>\n",
              "      <th>MiscVal</th>\n",
              "      <th>MoSold</th>\n",
              "      <th>YrSold</th>\n",
              "      <th>SaleType</th>\n",
              "      <th>SaleCondition</th>\n",
              "      <th>SalePrice</th>\n",
              "    </tr>\n",
              "  </thead>\n",
              "  <tbody>\n",
              "    <tr>\n",
              "      <th>0</th>\n",
              "      <td>1</td>\n",
              "      <td>60</td>\n",
              "      <td>RL</td>\n",
              "      <td>65.0</td>\n",
              "      <td>8450</td>\n",
              "      <td>Pave</td>\n",
              "      <td>NaN</td>\n",
              "      <td>Reg</td>\n",
              "      <td>Lvl</td>\n",
              "      <td>AllPub</td>\n",
              "      <td>...</td>\n",
              "      <td>0</td>\n",
              "      <td>NaN</td>\n",
              "      <td>NaN</td>\n",
              "      <td>NaN</td>\n",
              "      <td>0</td>\n",
              "      <td>2</td>\n",
              "      <td>2008</td>\n",
              "      <td>WD</td>\n",
              "      <td>Normal</td>\n",
              "      <td>208500</td>\n",
              "    </tr>\n",
              "    <tr>\n",
              "      <th>1</th>\n",
              "      <td>2</td>\n",
              "      <td>20</td>\n",
              "      <td>RL</td>\n",
              "      <td>80.0</td>\n",
              "      <td>9600</td>\n",
              "      <td>Pave</td>\n",
              "      <td>NaN</td>\n",
              "      <td>Reg</td>\n",
              "      <td>Lvl</td>\n",
              "      <td>AllPub</td>\n",
              "      <td>...</td>\n",
              "      <td>0</td>\n",
              "      <td>NaN</td>\n",
              "      <td>NaN</td>\n",
              "      <td>NaN</td>\n",
              "      <td>0</td>\n",
              "      <td>5</td>\n",
              "      <td>2007</td>\n",
              "      <td>WD</td>\n",
              "      <td>Normal</td>\n",
              "      <td>181500</td>\n",
              "    </tr>\n",
              "    <tr>\n",
              "      <th>2</th>\n",
              "      <td>3</td>\n",
              "      <td>60</td>\n",
              "      <td>RL</td>\n",
              "      <td>68.0</td>\n",
              "      <td>11250</td>\n",
              "      <td>Pave</td>\n",
              "      <td>NaN</td>\n",
              "      <td>IR1</td>\n",
              "      <td>Lvl</td>\n",
              "      <td>AllPub</td>\n",
              "      <td>...</td>\n",
              "      <td>0</td>\n",
              "      <td>NaN</td>\n",
              "      <td>NaN</td>\n",
              "      <td>NaN</td>\n",
              "      <td>0</td>\n",
              "      <td>9</td>\n",
              "      <td>2008</td>\n",
              "      <td>WD</td>\n",
              "      <td>Normal</td>\n",
              "      <td>223500</td>\n",
              "    </tr>\n",
              "    <tr>\n",
              "      <th>3</th>\n",
              "      <td>4</td>\n",
              "      <td>70</td>\n",
              "      <td>RL</td>\n",
              "      <td>60.0</td>\n",
              "      <td>9550</td>\n",
              "      <td>Pave</td>\n",
              "      <td>NaN</td>\n",
              "      <td>IR1</td>\n",
              "      <td>Lvl</td>\n",
              "      <td>AllPub</td>\n",
              "      <td>...</td>\n",
              "      <td>0</td>\n",
              "      <td>NaN</td>\n",
              "      <td>NaN</td>\n",
              "      <td>NaN</td>\n",
              "      <td>0</td>\n",
              "      <td>2</td>\n",
              "      <td>2006</td>\n",
              "      <td>WD</td>\n",
              "      <td>Abnorml</td>\n",
              "      <td>140000</td>\n",
              "    </tr>\n",
              "    <tr>\n",
              "      <th>4</th>\n",
              "      <td>5</td>\n",
              "      <td>60</td>\n",
              "      <td>RL</td>\n",
              "      <td>84.0</td>\n",
              "      <td>14260</td>\n",
              "      <td>Pave</td>\n",
              "      <td>NaN</td>\n",
              "      <td>IR1</td>\n",
              "      <td>Lvl</td>\n",
              "      <td>AllPub</td>\n",
              "      <td>...</td>\n",
              "      <td>0</td>\n",
              "      <td>NaN</td>\n",
              "      <td>NaN</td>\n",
              "      <td>NaN</td>\n",
              "      <td>0</td>\n",
              "      <td>12</td>\n",
              "      <td>2008</td>\n",
              "      <td>WD</td>\n",
              "      <td>Normal</td>\n",
              "      <td>250000</td>\n",
              "    </tr>\n",
              "  </tbody>\n",
              "</table>\n",
              "<p>5 rows × 81 columns</p>\n",
              "</div>"
            ],
            "text/plain": [
              "   Id  MSSubClass MSZoning  LotFrontage  LotArea Street Alley LotShape  \\\n",
              "0   1          60       RL         65.0     8450   Pave   NaN      Reg   \n",
              "1   2          20       RL         80.0     9600   Pave   NaN      Reg   \n",
              "2   3          60       RL         68.0    11250   Pave   NaN      IR1   \n",
              "3   4          70       RL         60.0     9550   Pave   NaN      IR1   \n",
              "4   5          60       RL         84.0    14260   Pave   NaN      IR1   \n",
              "\n",
              "  LandContour Utilities  ... PoolArea PoolQC Fence MiscFeature MiscVal MoSold  \\\n",
              "0         Lvl    AllPub  ...        0    NaN   NaN         NaN       0      2   \n",
              "1         Lvl    AllPub  ...        0    NaN   NaN         NaN       0      5   \n",
              "2         Lvl    AllPub  ...        0    NaN   NaN         NaN       0      9   \n",
              "3         Lvl    AllPub  ...        0    NaN   NaN         NaN       0      2   \n",
              "4         Lvl    AllPub  ...        0    NaN   NaN         NaN       0     12   \n",
              "\n",
              "  YrSold  SaleType  SaleCondition  SalePrice  \n",
              "0   2008        WD         Normal     208500  \n",
              "1   2007        WD         Normal     181500  \n",
              "2   2008        WD         Normal     223500  \n",
              "3   2006        WD        Abnorml     140000  \n",
              "4   2008        WD         Normal     250000  \n",
              "\n",
              "[5 rows x 81 columns]"
            ]
          },
          "execution_count": 38,
          "metadata": {},
          "output_type": "execute_result"
        }
      ],
      "source": [
        "df_train = pd.read_csv(\"../1/files/housing_price_train.csv\")\n",
        "df_test = pd.read_csv(\"../1/files/housing_price_test.csv\")\n",
        "\n",
        "# df_train.info()\n",
        "print(df_train.shape)\n",
        "\n",
        "df_train.head(5)"
      ]
    },
    {
      "cell_type": "markdown",
      "metadata": {
        "id": "oWmPCu5hmAIj"
      },
      "source": [
        "### Clean the dataset (10 points)\n",
        "\n",
        "* We cannot train on a 'dirty' dataset! There are duplicated, Null, and missing values that you need to take care of!\n",
        "\n",
        "* Drop all columns which have null values >= 70 % and drop all rows which have null values >= 70 %.\n",
        "\n",
        "* You need to take care of categorial data!"
      ]
    },
    {
      "cell_type": "code",
      "execution_count": 39,
      "metadata": {
        "id": "exQbzeH7mM-I"
      },
      "outputs": [
        {
          "name": "stdout",
          "output_type": "stream",
          "text": [
            "              MissingValuePercentage\n",
            "PoolQC                         99.52\n",
            "MiscFeature                    96.30\n",
            "Alley                          93.77\n",
            "Fence                          80.75\n",
            "MasVnrType                     59.73\n",
            "FireplaceQu                    47.26\n",
            "LotFrontage                    17.74\n",
            "GarageYrBlt                     5.55\n",
            "GarageCond                      5.55\n",
            "GarageType                      5.55\n",
            "GarageFinish                    5.55\n",
            "GarageQual                      5.55\n",
            "BsmtFinType2                    2.60\n",
            "BsmtExposure                    2.60\n",
            "BsmtQual                        2.53\n",
            "BsmtCond                        2.53\n",
            "BsmtFinType1                    2.53\n",
            "MasVnrArea                      0.55\n",
            "Electrical                      0.07\n",
            "(1460, 81)\n",
            "(1460, 77)\n",
            "Empty DataFrame\n",
            "Columns: [MissingValuePercentage]\n",
            "Index: []\n",
            "              MissingValuePercentage\n",
            "PoolQC                         99.81\n",
            "MiscFeature                    96.47\n",
            "Alley                          92.50\n",
            "Fence                          79.94\n",
            "MasVnrType                     60.71\n",
            "FireplaceQu                    50.00\n",
            "LotFrontage                    15.19\n",
            "GarageYrBlt                     5.26\n",
            "GarageQual                      5.26\n",
            "GarageFinish                    5.26\n",
            "GarageCond                      5.26\n",
            "GarageType                      5.13\n",
            "BsmtCond                        2.95\n",
            "BsmtQual                        2.88\n",
            "BsmtExposure                    2.88\n",
            "BsmtFinType1                    2.76\n",
            "BsmtFinType2                    2.76\n",
            "MasVnrArea                      0.96\n",
            "MSZoning                        0.26\n",
            "BsmtHalfBath                    0.13\n",
            "Utilities                       0.13\n",
            "Functional                      0.13\n",
            "BsmtFullBath                    0.13\n",
            "BsmtFinSF1                      0.06\n",
            "BsmtFinSF2                      0.06\n",
            "BsmtUnfSF                       0.06\n",
            "KitchenQual                     0.06\n",
            "TotalBsmtSF                     0.06\n",
            "Exterior2nd                     0.06\n",
            "GarageCars                      0.06\n",
            "Exterior1st                     0.06\n",
            "GarageArea                      0.06\n",
            "SaleType                        0.06\n",
            "(1560, 80)\n",
            "(1560, 76)\n",
            "Empty DataFrame\n",
            "Columns: [MissingValuePercentage]\n",
            "Index: []\n",
            "object\n"
          ]
        }
      ],
      "source": [
        "def show_null_percentage(df):\n",
        "    miss_val = pd.DataFrame(\n",
        "        data=(df.isna().mean() * 100).round(2).sort_values(ascending=False),\n",
        "        columns=[\"MissingValuePercentage\"],\n",
        "    )\n",
        "    print(miss_val[miss_val[\"MissingValuePercentage\"] > 0])\n",
        "\n",
        "def drop_columns(df):\n",
        "    min_count =  int(((100-70.0)/100)*df.shape[0] + 1)\n",
        "    df.dropna(axis=1, thresh = min_count, inplace = True) \n",
        "\n",
        "def drop_rows(df):\n",
        "    df.dropna(axis=0, thresh = len(df.columns) * 0.7, inplace = True)\n",
        "    \n",
        "    \n",
        "def fill_missing_values(df):\n",
        "    df['LotFrontage'].fillna(value = df['LotFrontage'].mean, inplace = True)\n",
        "    df['GarageType'].fillna(value = df['GarageType'].mode()[0], inplace = True)\n",
        "    \n",
        "    miss_val = df.isnull().sum().sort_values(ascending = False)\n",
        "    miss_val = pd.DataFrame(data = df.isnull().sum().sort_values(ascending = False), columns = ['MissingValueCount'])\n",
        "    for col in list(miss_val.index):\n",
        "        df[col].fillna(df[col].mode()[0], inplace = True)\n",
        "        \n",
        "    df.replace(['?','NA','NAN','none','','-','...','np'], \"None\", inplace = True)\n",
        "\n",
        "    return df\n",
        "\n",
        "def get_categorical_columns(dataframe):\n",
        "    categorical_columns = dataframe.select_dtypes(include=['object']).columns.tolist()\n",
        "    return categorical_columns\n",
        "\n",
        "def categorical_to_numeric(dataframe, column_name):\n",
        "    # convert categorical data to numerical using pandas\n",
        "    dataframe[column_name] = pd.Categorical(dataframe[column_name])\n",
        "    dataframe[column_name] = dataframe[column_name].cat.codes\n",
        "    return dataframe\n",
        "\n",
        "def convert_cat_to_num(dataframe):\n",
        "    # Get all categorical columns\n",
        "    categoricalColumns = get_categorical_columns(dataframe)\n",
        "    for col in categoricalColumns:\n",
        "        categorical_to_numeric(dataframe, col)\n",
        "    return dataframe\n",
        "    \n",
        "def PreprocessingData(df):\n",
        "    \"\"\"\n",
        "        TODO\n",
        "        Show NULL values for each columns in dataset and thier percentage\n",
        "        Drop all columns which have null values >= 70 % \n",
        "        Drop all rows which have null values >= 70 %\n",
        "        Fill all missing values with the (mean, mode)\n",
        "\n",
        "    \"\"\"\n",
        "    \n",
        "    show_null_percentage(df)\n",
        "    \n",
        "    #Check the dimension before dropping\n",
        "    print(df.shape)\n",
        "    \n",
        "    drop_columns(df)\n",
        "    drop_rows(df)\n",
        "    \n",
        "    #Check the dimension after dropping\n",
        "    print(df.shape)\n",
        "    \n",
        "    fill_missing_values(df)\n",
        "    #Check for missing values\n",
        "    show_null_percentage(df)\n",
        "    \n",
        "    \n",
        "\n",
        "PreprocessingData(df_train)\n",
        "PreprocessingData(df_test)\n",
        "\n",
        "df_train = convert_cat_to_num(df_train)\n",
        "df_test = convert_cat_to_num(df_test)\n",
        "\n",
        "print(df_train.dtypes.dtypes)"
      ]
    },
    {
      "cell_type": "markdown",
      "metadata": {
        "id": "LQ8kz_a-mdNx"
      },
      "source": [
        "### Correlations! (5 points)\n",
        "\n",
        "* Now we have a clean dataset, but not all attributes are useful! \n",
        "\n",
        "* Display the corrlation between all features and the sales price. This will show you which feature affects sales price more. You may use *corr()* function. \n",
        "\n",
        "* Choose the most correlated features, and remove others. "
      ]
    },
    {
      "cell_type": "code",
      "execution_count": 40,
      "metadata": {
        "id": "Irh60fo-nVtw"
      },
      "outputs": [
        {
          "name": "stdout",
          "output_type": "stream",
          "text": [
            "ExterQual      -0.636884\n",
            "BsmtQual       -0.618025\n",
            "KitchenQual    -0.589189\n",
            "GarageFinish   -0.537242\n",
            "HeatingQC      -0.400178\n",
            "                  ...   \n",
            "GarageArea      0.623431\n",
            "GarageCars      0.640409\n",
            "GrLivArea       0.708624\n",
            "OverallQual     0.790982\n",
            "SalePrice       1.000000\n",
            "Name: SalePrice, Length: 77, dtype: float64\n"
          ]
        },
        {
          "data": {
            "image/png": "[encoded data removed]",
            "text/plain": [
              "<Figure size 1200x1000 with 2 Axes>"
            ]
          },
          "metadata": {},
          "output_type": "display_data"
        }
      ],
      "source": [
        "correlation = df_train[df_train.columns].corr()['SalePrice'][:].sort_values()\n",
        "print(correlation)\n",
        "# keep most correlated features (>50%) and remove others\n",
        "most_correlated = correlation[correlation > 0.5]\n",
        "df_train = df_train[most_correlated.index]\n",
        "\n",
        "plt.figure(figsize=(12, 10))\n",
        "cor = df_train.corr()\n",
        "sns.heatmap(cor, annot=True, cmap=plt.cm.Reds)\n",
        "plt.show()"
      ]
    },
    {
      "cell_type": "markdown",
      "metadata": {
        "id": "hhnNAO-wnXM6"
      },
      "source": [
        "## Part 2: Decision Tree (45 points)\n",
        "#### Building a Decision Tree:\n",
        "A Decision tree consists of nodes connected by edges. A decision tree is typically, a binary tree, which has the following properties:\n",
        "- One node is marked as Root node\n",
        "- Every node other than the root has a parent node\n",
        "- Each node can have at most 2 child nodes (left edge & right edge)\n",
        "- Leaf node is the node which contains pure data or when we reach to the maximum depth \n",
        "\n",
        "To create the decision tree model for scratch you need to create two classes (a class for the node, for example \"class DecisionNode():\" and a class for Decision Tree model, for example \"class RegressionDecisionTree():\")\n",
        "\n",
        "\n",
        "1- DecisionNode class used to save some values for each node we do the spliting on it until we reach the leaf node\n",
        "so we will save the following values for the node:\n",
        "- feature: feature index.\n",
        "- threshold: the value we used to split the data on.\n",
        "- value: the average value for the leaf node.\n",
        "- True_Branch: if the condition is true.\n",
        "- False_Branch: if the condition is false."
      ]
    },
    {
      "cell_type": "code",
      "execution_count": 41,
      "metadata": {
        "id": "cYNFB7QY-SJK"
      },
      "outputs": [],
      "source": [
        "class DecisionNode():\n",
        "    def __init__(self, feature_idx=None, threshold=None, value=None, true_branch=None, false_branch=None):\n",
        "        self.feature_idx = feature_idx # index of the feature that is used\n",
        "        self.threshold = threshold     # threshold value for feature when making the decision\n",
        "        self.value = value # Average value if the node is a leaf in the tree\n",
        "        self.true_branch = true_branch # the node we go to if decision returns True\n",
        "        self.false_branch = false_branch # the node we go to if decision returns False"
      ]
    },
    {
      "cell_type": "markdown",
      "metadata": {
        "id": "iYpCv95F-SJK"
      },
      "source": [
        "# Decision Tree Class\n",
        "This Class consists the following functions:\n",
        "<ol>\n",
        "<li> <b>build_tree</b>: used to create the decision tree nodes</li> \n",
        "<li> <b>calc_variance_reduction</b> : measure the impurity by using variance reduction measure (like MSE) </li> \n",
        "the function takes three parameters (parentRec: the records for the target before split,and the left and right records after splitting. This function used to measure the impurity for each node and decide if we will split or not.\n",
        "<li> <b>majority_vote</b>: used to calculate values for the leaf nodes records which equal to the mean of these records.</li> \n",
        "<li><b>split_by_feature</b>: this function take the feature and the threshold and check if the feature is numerical so it split the records into two node (true which is the left edge and false which is the right edge)\n",
        "if the feature is categorical so it split where the values equal to the threshold</li>\n",
        "<li> <b>fit</b>: Used to train the dataset after spliting the data into two part x: features, y: target</li>\n",
        "<li><b>predict_value</b>: used to predict the value for each record, it is a recursive method to find the leaf node that corresponds to prediction\n",
        "<li><b>predict</b>: take all records for the test data and iterate into each record to predit the y(target) value and save the result into a prediction list. "
      ]
    },
    {
      "cell_type": "code",
      "execution_count": 42,
      "metadata": {
        "id": "HSe6v4r1-SJK"
      },
      "outputs": [],
      "source": [
        "class RegressionDecisionTree():\n",
        "    def __init__(self, min_VarianceReduction=1e-7, max_depth=5):\n",
        "        self.root = None  # root of this tree\n",
        "        self.min_VarianceReduction = min_VarianceReduction # minimum VarianceReduction to allow splitting\n",
        "        # used to stopping conductions\n",
        "        self.max_depth = max_depth  # maximum depth the tree grows to\n",
        "\n",
        "    def build_tree(self, X, y, current_depth=0):\n",
        "        # we will use decision dictionary to save the feature and the threshold we build the tree on\n",
        "        decision = None\n",
        "        # we will use subtrees dictionary to save the feature and the threshold we build the tree on\n",
        "        subtrees = None\n",
        "        largest_variance_Reduction = 0\n",
        "        # add y as last column of X\n",
        "        df = pd.concat((X, y), axis=1)\n",
        "        n_rows, n_features = X.shape\n",
        "        if current_depth <= self.max_depth:\n",
        "            # iterate through every feature\n",
        "            for feature_idx in range(n_features):\n",
        "                # values of that column\n",
        "                feature_values = X.iloc[:, feature_idx]                \n",
        "                unique_values = feature_values.unique()                \n",
        "                for threshold in unique_values:\n",
        "                    X_trueEdge, X_falseEdge = self.split_by_feature(df, feature_idx, threshold)\n",
        "                    if len(X_trueEdge) > 0 and len(X_falseEdge) > 0:\n",
        "                        y_true = X_trueEdge.iloc[:,-1]\n",
        "                        y_false = X_falseEdge.iloc[:,-1]   \n",
        "                        # Calculate impurity\n",
        "                        VarianceRed = self.Calc_variance_reduction(y, y_true, y_false)\n",
        "                        # Keep track of which feature gave the largest information gain\n",
        "                        if VarianceRed > largest_variance_Reduction:\n",
        "                            largest_variance_Reduction = VarianceRed\n",
        "                            decision = {\"feature_idx\":feature_idx, \"threshold\":threshold}\n",
        "                            subtrees = {\"X_true\":X_trueEdge.iloc[:,:-1],\n",
        "                                        \"y_true\":y_true,\n",
        "                                        \"X_false\":X_falseEdge.iloc[:,:-1],\n",
        "                                        \"y_false\":y_false}\n",
        "\n",
        "        # we will construct new branch of tree if the variance_Reduction is larger than minimum variance_Reduction that we've defined\n",
        "        if largest_variance_Reduction > self.min_VarianceReduction:\n",
        "            true_branch = self.build_tree(subtrees[\"X_true\"], subtrees[\"y_true\"], current_depth+1)\n",
        "            false_branch = self.build_tree(subtrees[\"X_false\"], subtrees[\"y_false\"], current_depth+1)\n",
        "            return DecisionNode(feature_idx=decision[\"feature_idx\"], threshold=decision[\"threshold\"], true_branch=true_branch, false_branch=false_branch)\n",
        "\n",
        "        # at leaf node we calculate the mean for the records\n",
        "        leaf_value = self.majority_vote(y)\n",
        "        return DecisionNode(value=leaf_value)\n",
        "\n",
        "\n",
        "    def Calc_variance_reduction(self, parentRec, left_edgeRec, Right_edgeRec):\n",
        "        # Calculate the weighted variance for both child nodes (left and right) after a split\n",
        "\n",
        "        # Calculate the proportion of samples in the left child node\n",
        "        weight_l = len(left_edgeRec) / len(parentRec)\n",
        "\n",
        "        # Calculate the proportion of samples in the right child node\n",
        "        weight_r = len(Right_edgeRec) / len(parentRec)\n",
        "\n",
        "        # Calculate the variance reduction as the difference between the variance of the parent node\n",
        "        # and the weighted sum of the variances of the two child nodes.\n",
        "        # This measures how much the split reduces the variance (impurity) in the data.\n",
        "        # A higher variance reduction indicates a better split.\n",
        "        variance_reduction = np.var(parentRec) - (weight_l * np.var(left_edgeRec) + weight_r * np.var(Right_edgeRec))\n",
        "\n",
        "        # Return the calculated variance reduction\n",
        "        return variance_reduction\n",
        "\n",
        "    def majority_vote(self, Y):\n",
        "        # Calculate the mean value of the target variable Y\n",
        "\n",
        "        # This function is used in the context of a regression decision tree\n",
        "        # where the 'majority vote' is actually the mean of the target values in the leaf node.\n",
        "        # When the decision tree algorithm determines that no further splitting is beneficial,\n",
        "        # it creates a leaf node. The predicted value for this leaf node is the mean\n",
        "        # of the target values (Y) of the samples that fall into this node.\n",
        "\n",
        "        # This mean value is used as the prediction for all instances that reach this leaf node.\n",
        "        return np.mean(Y)\n",
        "\n",
        "    def split_by_feature(self, db, feature_idx, threshold):\n",
        "        # Split the dataset 'db' based on a specified feature and threshold value.\n",
        "\n",
        "        # If the feature is categorical (dtype == \"object\"):\n",
        "        # - 'left_edge' contains all rows where the feature value equals the threshold\n",
        "        # - 'right_edge' contains all rows where the feature value does not equal the threshold\n",
        "        if db.iloc[:, feature_idx].dtype == \"object\":\n",
        "            left_edge = db[db.iloc[:, feature_idx] == threshold]\n",
        "            right_edge = db[db.iloc[:, feature_idx] != threshold]\n",
        "        # If the feature is numerical:\n",
        "        # - 'left_edge' contains all rows where the feature value is less than or equal to the threshold\n",
        "        # - 'right_edge' contains all rows where the feature value is greater than the threshold\n",
        "        else:\n",
        "            left_edge = db[db.iloc[:, feature_idx] <= threshold]\n",
        "            right_edge = db[db.iloc[:, feature_idx] > threshold]\n",
        "\n",
        "        # Return the two subsets of the dataset after the split\n",
        "        return left_edge, right_edge\n",
        "\n",
        "    def fit(self, X, y):\n",
        "        self.root = self.build_tree(X, y)\n",
        "\n",
        "    def predict_value(self, xTest, tree=None):\n",
        "        # Recursively traverse the decision tree to predict the value for a given test instance 'xTest'.\n",
        "\n",
        "        # If 'tree' is None, start from the root of the tree\n",
        "        if tree is None:\n",
        "            tree = self.root\n",
        "\n",
        "        # If the current node is a leaf node (has a value), return this value as the prediction\n",
        "        if tree.value is not None:\n",
        "            return tree.value\n",
        "\n",
        "        # Determine the feature value of the test instance at the current node's feature index\n",
        "        feature_val = xTest[tree.feature_idx]\n",
        "\n",
        "        # Decide which branch (true_branch or false_branch) to follow based on the feature value\n",
        "        # and the threshold at the current node. If feature_val is less than or equal to the threshold,\n",
        "        # follow the true_branch; otherwise, follow the false_branch.\n",
        "        branch = tree.true_branch if feature_val <= tree.threshold else tree.false_branch\n",
        "\n",
        "        # Continue traversing the tree recursively along the chosen branch\n",
        "        return self.predict_value(xTest, branch)\n",
        "\n",
        "    def predict(self, XTest):\n",
        "        y_pred = [self.predict_value(row) for row in XTest.values]\n",
        "        return y_pred"
      ]
    },
    {
      "cell_type": "markdown",
      "metadata": {
        "id": "S9aqjovq-SJM"
      },
      "source": [
        "- To Check the Accuracy for our prediction we use CalcAccuracy function which take the actual values for the test dataset and the predicted values and apply the RMSE formula."
      ]
    },
    {
      "cell_type": "code",
      "execution_count": 43,
      "metadata": {
        "id": "24p2WfE8-SJN"
      },
      "outputs": [],
      "source": [
        "def CalcAccuracy(Actual_Y, Predicted_y):\n",
        "    # If Actual_Y is a DataFrame, extract the last column\n",
        "    if isinstance(Actual_Y, pd.DataFrame):\n",
        "        Actual_Y = Actual_Y.iloc[:, -1]\n",
        "\n",
        "    # Calculate Mean Squared Error and Root Mean Squared Error\n",
        "    mse = np.mean((np.array(Actual_Y) - np.array(Predicted_y)) ** 2)\n",
        "    rmse = np.sqrt(mse)\n",
        "    return rmse"
      ]
    },
    {
      "cell_type": "markdown",
      "metadata": {
        "id": "5_2Ve9v--SJN"
      },
      "source": [
        "- Build decision tree model\n",
        "- Fit the model\n",
        "- Predict the values from test data "
      ]
    },
    {
      "cell_type": "code",
      "execution_count": 44,
      "metadata": {
        "id": "7dJKxolT-SJN"
      },
      "outputs": [
        {
          "name": "stdout",
          "output_type": "stream",
          "text": [
            "RMSE: 36945.2089396043\n"
          ]
        }
      ],
      "source": [
        "from sklearn.model_selection import train_test_split\n",
        "\n",
        "# Splitting the original training data\n",
        "X_train, X_test, Y_train, Y_test = train_test_split(\n",
        "    df_train.iloc[:, :-1], df_train.iloc[:, -1], test_size=0.2, random_state=30\n",
        ")\n",
        "\n",
        "# Create the decision tree regressor\n",
        "regressor = RegressionDecisionTree(min_VarianceReduction=1e-7, max_depth=5)\n",
        "\n",
        "# Fit the model using the training part of the split\n",
        "regressor.fit(X_train, Y_train)\n",
        "\n",
        "# Predict using the test part of the split\n",
        "predicted_y = regressor.predict(X_test)\n",
        "\n",
        "# Calculate accuracy using the actual and predicted values of the test set\n",
        "accuracy = CalcAccuracy(Y_test, predicted_y)\n",
        "print(\"RMSE:\", accuracy)"
      ]
    },
    {
      "cell_type": "markdown",
      "metadata": {
        "id": "TvzaxcPAoJsk"
      },
      "source": [
        "## Part 3: Random Forest (20 points)\n",
        "#### Random forest class\n",
        "- the Class consist of the following functions:\n",
        "<ul>\n",
        "    <li>Constructor: consists of the subset data (Training & Testing) dataset after preprocessing and a list of deciceion tree objects </li>    \n",
        "    <li>Subsampling: Bagging we will take random sample with replacement for the Training dataset </li>\n",
        "    <li>build_model: first make subsample for the training dataset, then split the data into featurespart(X) and targetpart(Y), then take 10 samples of the feature part, finally build the decision tree (fit), this function take the number of DT that we want to build</li>\n",
        "    <li>predict: take the test dataset and make the prediction for the target field in all the tree in the random forest then take the mean for the prediction in each tree, finally add the mean of prediction to a list of predition </li>\n",
        "\n",
        "</ul>"
      ]
    },
    {
      "cell_type": "code",
      "execution_count": 45,
      "metadata": {
        "id": "a00zi12Q-SJO"
      },
      "outputs": [],
      "source": [
        "class RF(object):\n",
        "    def __init__(self):\n",
        "        self.Traindata = None  # Training data set (loaded into memory)\n",
        "        self.Testdata = None  # Test data set for prediction\n",
        "        self.trees = []  # List of decision trees\n",
        "\n",
        "    # This function generates a subsample with replacement\n",
        "    def __subsampling(self, train_set, sample_size_ratio):\n",
        "        sample_number = round(len(train_set) * sample_size_ratio)\n",
        "        return train_set.sample(n=sample_number, replace=True)\n",
        "\n",
        "    def build_model(self, train_set, sample_size_ratio, number_of_trees):\n",
        "        for i in range(number_of_trees):\n",
        "            # Generate a training sample using subsampling\n",
        "            TrainingSample = self.__subsampling(train_set, sample_size_ratio)\n",
        "\n",
        "            # Create a new decision tree\n",
        "            tree = RegressionDecisionTree()\n",
        "\n",
        "            # Train the tree on the subsample\n",
        "            tree.fit(TrainingSample.iloc[:, :-1], TrainingSample.iloc[:, -1])\n",
        "\n",
        "            # Add the trained tree to the list of trees\n",
        "            self.trees.append(tree)\n",
        "\n",
        "    def predict(self, test_set):\n",
        "        # List to store predictions from each tree\n",
        "        all_predictions = []\n",
        "\n",
        "        # For each tree in the forest, predict and store the results\n",
        "        for tree in self.trees:\n",
        "            predictions = tree.predict(test_set)\n",
        "            all_predictions.append(predictions)\n",
        "\n",
        "        # Calculate the mean of predictions from all trees for each test instance\n",
        "        # Transpose the list of predictions to get predictions from all trees for each instance\n",
        "        # Then compute the mean across trees for each instance\n",
        "        mean_predictions = np.mean(np.transpose(all_predictions), axis=1)\n",
        "\n",
        "        return mean_predictions"
      ]
    },
    {
      "cell_type": "markdown",
      "metadata": {
        "id": "ITGUmaXc-SJO"
      },
      "source": [
        "### Create Random Forest\n",
        "\n",
        "* Create 10 Decision Tree in the randomforest\n",
        "* Train the random forest with the dataset\n",
        "* Use the created random forest to predict the test dataset "
      ]
    },
    {
      "cell_type": "code",
      "execution_count": 46,
      "metadata": {
        "id": "SjqaGyyl-qoY"
      },
      "outputs": [],
      "source": [
        "# Assuming your training and testing datasets are named 'df_train' and 'df_test'\n",
        "\n",
        "# Step 1: Create an instance of the Random Forest class\n",
        "random_forest = RF()\n",
        "\n",
        "# Step 2: Build the Random Forest model with 10 Decision Trees\n",
        "# Here, you need to specify the sample size ratio. For example, 0.7 means each tree will be trained on 70% of the data\n",
        "sample_size_ratio = 0.7  # This can be adjusted\n",
        "number_of_trees = 10\n",
        "random_forest.build_model(df_train, sample_size_ratio, number_of_trees)\n",
        "\n",
        "# Step 3: Use the created Random Forest to predict on the test dataset\n",
        "# Ensure that your test dataset (df_test) is properly formatted and ready for prediction\n",
        "predicted_values = random_forest.predict(df_test.iloc[:, :-1])\n",
        "\n",
        "# 'predicted_values' now contains the predictions for the test dataset"
      ]
    },
    {
      "cell_type": "markdown",
      "metadata": {
        "id": "CVGAlCDkoRfo"
      },
      "source": [
        "##Part4: Comparison! (15 points)"
      ]
    },
    {
      "cell_type": "markdown",
      "metadata": {
        "id": "8tHF7qjiBl6A"
      },
      "source": [
        "Now that you have finished implementing your Random Forest, it's time for some experiments and analysis! \n",
        "\n",
        "* Use the Random Forest in the scikit-learn library and train it on the same dataset. \n",
        "\n",
        "* Compare the accuracy given by your Random Forest to the scikit-learn one. \n",
        "\n",
        "* Increase the number of trees in your Random Forest. Does it improve the accuracy? \n",
        "\n",
        "* Make a table for comparing your Random Forest accuracy with different number of trees with the scikit-learn one. What is your conclusion? "
      ]
    },
    {
      "cell_type": "code",
      "execution_count": 47,
      "metadata": {
        "id": "sWmfgEVp-SJO"
      },
      "outputs": [
        {
          "ename": "IndexError",
          "evalue": "index 9 is out of bounds for axis 0 with size 9",
          "output_type": "error",
          "traceback": [
            "\u001b[0;31m---------------------------------------------------------------------------\u001b[0m",
            "\u001b[0;31mIndexError\u001b[0m                                Traceback (most recent call last)",
            "Cell \u001b[0;32mIn[47], line 39\u001b[0m\n\u001b[1;32m     37\u001b[0m custom_rf \u001b[38;5;241m=\u001b[39m RF()\n\u001b[1;32m     38\u001b[0m custom_rf\u001b[38;5;241m.\u001b[39mbuild_model(df_train, sample_size_ratio, count)\n\u001b[0;32m---> 39\u001b[0m custom_predictions \u001b[38;5;241m=\u001b[39m \u001b[43mcustom_rf\u001b[49m\u001b[38;5;241;43m.\u001b[39;49m\u001b[43mpredict\u001b[49m\u001b[43m(\u001b[49m\u001b[43mdf_test_aligned\u001b[49m\u001b[38;5;241;43m.\u001b[39;49m\u001b[43miloc\u001b[49m\u001b[43m[\u001b[49m\u001b[43m:\u001b[49m\u001b[43m,\u001b[49m\u001b[43m \u001b[49m\u001b[43m:\u001b[49m\u001b[38;5;241;43m-\u001b[39;49m\u001b[38;5;241;43m1\u001b[39;49m\u001b[43m]\u001b[49m\u001b[43m)\u001b[49m\n\u001b[1;32m     40\u001b[0m custom_rmse \u001b[38;5;241m=\u001b[39m np\u001b[38;5;241m.\u001b[39msqrt(\n\u001b[1;32m     41\u001b[0m     mean_squared_error(df_test_aligned\u001b[38;5;241m.\u001b[39miloc[:, \u001b[38;5;241m-\u001b[39m\u001b[38;5;241m1\u001b[39m], custom_predictions)\n\u001b[1;32m     42\u001b[0m )\n\u001b[1;32m     43\u001b[0m custom_rf_rmses\u001b[38;5;241m.\u001b[39mappend(custom_rmse)\n",
            "Cell \u001b[0;32mIn[45], line 32\u001b[0m, in \u001b[0;36mRF.predict\u001b[0;34m(self, test_set)\u001b[0m\n\u001b[1;32m     30\u001b[0m \u001b[38;5;66;03m# For each tree in the forest, predict and store the results\u001b[39;00m\n\u001b[1;32m     31\u001b[0m \u001b[38;5;28;01mfor\u001b[39;00m tree \u001b[38;5;129;01min\u001b[39;00m \u001b[38;5;28mself\u001b[39m\u001b[38;5;241m.\u001b[39mtrees:\n\u001b[0;32m---> 32\u001b[0m     predictions \u001b[38;5;241m=\u001b[39m \u001b[43mtree\u001b[49m\u001b[38;5;241;43m.\u001b[39;49m\u001b[43mpredict\u001b[49m\u001b[43m(\u001b[49m\u001b[43mtest_set\u001b[49m\u001b[43m)\u001b[49m\n\u001b[1;32m     33\u001b[0m     all_predictions\u001b[38;5;241m.\u001b[39mappend(predictions)\n\u001b[1;32m     35\u001b[0m \u001b[38;5;66;03m# Calculate the mean of predictions from all trees for each test instance\u001b[39;00m\n\u001b[1;32m     36\u001b[0m \u001b[38;5;66;03m# Transpose the list of predictions to get predictions from all trees for each instance\u001b[39;00m\n\u001b[1;32m     37\u001b[0m \u001b[38;5;66;03m# Then compute the mean across trees for each instance\u001b[39;00m\n",
            "Cell \u001b[0;32mIn[42], line 125\u001b[0m, in \u001b[0;36mRegressionDecisionTree.predict\u001b[0;34m(self, XTest)\u001b[0m\n\u001b[1;32m    124\u001b[0m \u001b[38;5;28;01mdef\u001b[39;00m \u001b[38;5;21mpredict\u001b[39m(\u001b[38;5;28mself\u001b[39m, XTest):\n\u001b[0;32m--> 125\u001b[0m     y_pred \u001b[38;5;241m=\u001b[39m \u001b[43m[\u001b[49m\u001b[38;5;28;43mself\u001b[39;49m\u001b[38;5;241;43m.\u001b[39;49m\u001b[43mpredict_value\u001b[49m\u001b[43m(\u001b[49m\u001b[43mrow\u001b[49m\u001b[43m)\u001b[49m\u001b[43m \u001b[49m\u001b[38;5;28;43;01mfor\u001b[39;49;00m\u001b[43m \u001b[49m\u001b[43mrow\u001b[49m\u001b[43m \u001b[49m\u001b[38;5;129;43;01min\u001b[39;49;00m\u001b[43m \u001b[49m\u001b[43mXTest\u001b[49m\u001b[38;5;241;43m.\u001b[39;49m\u001b[43mvalues\u001b[49m\u001b[43m]\u001b[49m\n\u001b[1;32m    126\u001b[0m     \u001b[38;5;28;01mreturn\u001b[39;00m y_pred\n",
            "Cell \u001b[0;32mIn[42], line 125\u001b[0m, in \u001b[0;36m<listcomp>\u001b[0;34m(.0)\u001b[0m\n\u001b[1;32m    124\u001b[0m \u001b[38;5;28;01mdef\u001b[39;00m \u001b[38;5;21mpredict\u001b[39m(\u001b[38;5;28mself\u001b[39m, XTest):\n\u001b[0;32m--> 125\u001b[0m     y_pred \u001b[38;5;241m=\u001b[39m [\u001b[38;5;28;43mself\u001b[39;49m\u001b[38;5;241;43m.\u001b[39;49m\u001b[43mpredict_value\u001b[49m\u001b[43m(\u001b[49m\u001b[43mrow\u001b[49m\u001b[43m)\u001b[49m \u001b[38;5;28;01mfor\u001b[39;00m row \u001b[38;5;129;01min\u001b[39;00m XTest\u001b[38;5;241m.\u001b[39mvalues]\n\u001b[1;32m    126\u001b[0m     \u001b[38;5;28;01mreturn\u001b[39;00m y_pred\n",
            "Cell \u001b[0;32mIn[42], line 114\u001b[0m, in \u001b[0;36mRegressionDecisionTree.predict_value\u001b[0;34m(self, xTest, tree)\u001b[0m\n\u001b[1;32m    111\u001b[0m     \u001b[38;5;28;01mreturn\u001b[39;00m tree\u001b[38;5;241m.\u001b[39mvalue\n\u001b[1;32m    113\u001b[0m \u001b[38;5;66;03m# Determine the feature value of the test instance at the current node's feature index\u001b[39;00m\n\u001b[0;32m--> 114\u001b[0m feature_val \u001b[38;5;241m=\u001b[39m \u001b[43mxTest\u001b[49m\u001b[43m[\u001b[49m\u001b[43mtree\u001b[49m\u001b[38;5;241;43m.\u001b[39;49m\u001b[43mfeature_idx\u001b[49m\u001b[43m]\u001b[49m\n\u001b[1;32m    116\u001b[0m \u001b[38;5;66;03m# Decide which branch (true_branch or false_branch) to follow based on the feature value\u001b[39;00m\n\u001b[1;32m    117\u001b[0m \u001b[38;5;66;03m# and the threshold at the current node. If feature_val is less than or equal to the threshold,\u001b[39;00m\n\u001b[1;32m    118\u001b[0m \u001b[38;5;66;03m# follow the true_branch; otherwise, follow the false_branch.\u001b[39;00m\n\u001b[1;32m    119\u001b[0m branch \u001b[38;5;241m=\u001b[39m tree\u001b[38;5;241m.\u001b[39mtrue_branch \u001b[38;5;28;01mif\u001b[39;00m feature_val \u001b[38;5;241m<\u001b[39m\u001b[38;5;241m=\u001b[39m tree\u001b[38;5;241m.\u001b[39mthreshold \u001b[38;5;28;01melse\u001b[39;00m tree\u001b[38;5;241m.\u001b[39mfalse_branch\n",
            "\u001b[0;31mIndexError\u001b[0m: index 9 is out of bounds for axis 0 with size 9"
          ]
        }
      ],
      "source": [
        "from sklearn.ensemble import RandomForestRegressor\n",
        "from sklearn.metrics import mean_squared_error\n",
        "\n",
        "train_columns = set(df_train.columns[:-1])  # Exclude target variable\n",
        "test_columns = set(df_test.columns)\n",
        "\n",
        "missing_in_test = train_columns - test_columns\n",
        "extra_in_test = test_columns - train_columns\n",
        "\n",
        "# List of columns to keep in df_test (align with df_train)\n",
        "columns_to_keep = df_train.columns[:-1]  # Excluding the target variable from df_train\n",
        "\n",
        "# Align df_test to have the same columns as df_train\n",
        "df_test_aligned = df_test[columns_to_keep]\n",
        "\n",
        "# Recheck the alignment (optional)\n",
        "assert df_train.columns[:-1].equals(\n",
        "    df_test_aligned.columns\n",
        "), \"Columns do not match\"\n",
        "\n",
        "# Create and train the scikit-learn Random Forest model\n",
        "sklearn_rf = RandomForestRegressor(n_estimators=10, random_state=42)\n",
        "sklearn_rf.fit(df_train.iloc[:, :-1], df_train.iloc[:, -1])\n",
        "\n",
        "\n",
        "# Make predictions and calculate RMSE for scikit-learn model\n",
        "sklearn_predictions = sklearn_rf.predict(df_test_aligned)\n",
        "sklearn_rmse = np.sqrt(\n",
        "    mean_squared_error(df_test_aligned.iloc[:, -1], sklearn_predictions)\n",
        ")\n",
        "\n",
        "# Different numbers of trees to test\n",
        "tree_counts = [10, 20, 30, 40, 50]\n",
        "custom_rf_rmses = []\n",
        "\n",
        "for count in tree_counts:\n",
        "    custom_rf = RF()\n",
        "    custom_rf.build_model(df_train, sample_size_ratio, count)\n",
        "    custom_predictions = custom_rf.predict(df_test_aligned.iloc[:, :-1])\n",
        "    custom_rmse = np.sqrt(\n",
        "        mean_squared_error(df_test_aligned.iloc[:, -1], custom_predictions)\n",
        "    )\n",
        "    custom_rf_rmses.append(custom_rmse)\n",
        "\n",
        "# Comparison data\n",
        "comparison_data = {\n",
        "    \"Number of Trees\": tree_counts,\n",
        "    \"Custom RF RMSE\": custom_rf_rmses,\n",
        "    \"Sklearn RF RMSE\": [sklearn_rmse] * len(tree_counts),\n",
        "}\n",
        "\n",
        "# Creating the comparison table\n",
        "comparison_table = pd.DataFrame(comparison_data)\n",
        "\n",
        "# Display the comparison table\n",
        "comparison_table"
      ]
    },
    {
      "cell_type": "code",
      "execution_count": 30,
      "metadata": {},
      "outputs": [
        {
          "ename": "AssertionError",
          "evalue": "Columns do not match",
          "output_type": "error",
          "traceback": [
            "\u001b[0;31m---------------------------------------------------------------------------\u001b[0m",
            "\u001b[0;31mAssertionError\u001b[0m                            Traceback (most recent call last)",
            "Cell \u001b[0;32mIn[30], line 2\u001b[0m\n\u001b[1;32m      1\u001b[0m \u001b[38;5;66;03m# Check for the same columns in train and test sets\u001b[39;00m\n\u001b[0;32m----> 2\u001b[0m \u001b[38;5;28;01massert\u001b[39;00m df_train\u001b[38;5;241m.\u001b[39mcolumns[:\u001b[38;5;241m-\u001b[39m\u001b[38;5;241m1\u001b[39m]\u001b[38;5;241m.\u001b[39mequals(df_test\u001b[38;5;241m.\u001b[39mcolumns), \u001b[38;5;124m\"\u001b[39m\u001b[38;5;124mColumns do not match\u001b[39m\u001b[38;5;124m\"\u001b[39m\n\u001b[1;32m      4\u001b[0m \u001b[38;5;66;03m# Check for missing values in the test set\u001b[39;00m\n\u001b[1;32m      5\u001b[0m \u001b[38;5;28;01massert\u001b[39;00m \u001b[38;5;129;01mnot\u001b[39;00m df_test\u001b[38;5;241m.\u001b[39misnull()\u001b[38;5;241m.\u001b[39mvalues\u001b[38;5;241m.\u001b[39many(), \u001b[38;5;124m\"\u001b[39m\u001b[38;5;124mMissing values in test set\u001b[39m\u001b[38;5;124m\"\u001b[39m\n",
            "\u001b[0;31mAssertionError\u001b[0m: Columns do not match"
          ]
        }
      ],
      "source": [
        "# Check for the same columns in train and test sets\n",
        "assert df_train.columns[:-1].equals(df_test.columns), \"Columns do not match\"\n",
        "\n",
        "# Check for missing values in the test set\n",
        "assert not df_test.isnull().values.any(), \"Missing values in test set\"\n",
        "\n",
        "# Check data types\n",
        "assert df_train.dtypes[:-1].equals(df_test.dtypes), \"Data types do not match\"\n",
        "\n",
        "# If all checks pass, proceed with prediction\n",
        "sklearn_predictions = sklearn_rf.predict(df_test)"
      ]
    },
    {
      "cell_type": "code",
      "execution_count": 29,
      "metadata": {},
      "outputs": [],
      "source": [
        "train_columns = set(df_train.columns[:-1])  # Exclude target variable\n",
        "test_columns = set(df_test.columns)\n",
        "\n",
        "missing_in_test = train_columns - test_columns\n",
        "extra_in_test = test_columns - train_columns\n",
        "\n",
        "# List of columns to keep in df_test (align with df_train)\n",
        "columns_to_keep = df_train.columns[:-1]  # Excluding the target variable from df_train\n",
        "\n",
        "# Align df_test to have the same columns as df_train\n",
        "df_test_aligned = df_test[columns_to_keep]\n",
        "\n",
        "# Recheck the alignment (optional)\n",
        "assert df_train.columns[:-1].equals(\n",
        "    df_test_aligned.columns\n",
        "), \"Columns still do not match\"\n",
        "\n",
        "# Prediction with aligned test dataset\n",
        "sklearn_predictions = sklearn_rf.predict(df_test_aligned)"
      ]
    }
  ],
  "metadata": {
    "colab": {
      "provenance": []
    },
    "kernelspec": {
      "display_name": "Python 3",
      "language": "python",
      "name": "python3"
    },
    "language_info": {
      "codemirror_mode": {
        "name": "ipython",
        "version": 3
      },
      "file_extension": ".py",
      "mimetype": "text/x-python",
      "name": "python",
      "nbconvert_exporter": "python",
      "pygments_lexer": "ipython3",
      "version": "3.11.4"
    },
    "vscode": {
      "interpreter": {
        "hash": "aee8b7b246df8f9039afb4144a1f6fd8d2ca17a180786b69acc140d282b71a49"
      }
    }
  },
  "nbformat": 4,
  "nbformat_minor": 0
}
